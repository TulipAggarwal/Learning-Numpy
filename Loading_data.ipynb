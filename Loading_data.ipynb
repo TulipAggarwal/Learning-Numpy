{
  "nbformat": 4,
  "nbformat_minor": 0,
  "metadata": {
    "colab": {
      "provenance": [],
      "authorship_tag": "ABX9TyMhSna0yXtZIwz6NNq8rwVe",
      "include_colab_link": true
    },
    "kernelspec": {
      "name": "python3",
      "display_name": "Python 3"
    },
    "language_info": {
      "name": "python"
    }
  },
  "cells": [
    {
      "cell_type": "markdown",
      "metadata": {
        "id": "view-in-github",
        "colab_type": "text"
      },
      "source": [
        "<a href=\"https://colab.research.google.com/github/TulipAggarwal/Learning-Pandas/blob/main/Loading_data.ipynb\" target=\"_parent\"><img src=\"https://colab.research.google.com/assets/colab-badge.svg\" alt=\"Open In Colab\"/></a>"
      ]
    },
    {
      "cell_type": "markdown",
      "source": [
        "Loading Data into Pandas ✅"
      ],
      "metadata": {
        "id": "DeC0FAkdG0X9"
      }
    },
    {
      "cell_type": "code",
      "execution_count": 14,
      "metadata": {
        "colab": {
          "base_uri": "https://localhost:8080/"
        },
        "id": "XPsDHP6HGm3U",
        "outputId": "bf536890-60c3-4a7d-ba9b-d7134bc3eb50"
      },
      "outputs": [
        {
          "output_type": "stream",
          "name": "stdout",
          "text": [
            "       #                   Name   Type 1  Type 2  HP  Attack  Defense  \\\n",
            "0      1              Bulbasaur    Grass  Poison  45      49       49   \n",
            "1      2                Ivysaur    Grass  Poison  60      62       63   \n",
            "2      3               Venusaur    Grass  Poison  80      82       83   \n",
            "3      3  VenusaurMega Venusaur    Grass  Poison  80     100      123   \n",
            "4      4             Charmander     Fire     NaN  39      52       43   \n",
            "..   ...                    ...      ...     ...  ..     ...      ...   \n",
            "795  719                Diancie     Rock   Fairy  50     100      150   \n",
            "796  719    DiancieMega Diancie     Rock   Fairy  50     160      110   \n",
            "797  720    HoopaHoopa Confined  Psychic   Ghost  80     110       60   \n",
            "798  720     HoopaHoopa Unbound  Psychic    Dark  80     160       60   \n",
            "799  721              Volcanion     Fire   Water  80     110      120   \n",
            "\n",
            "     Sp. Atk  Sp. Def  Speed  Generation  Legendary  \n",
            "0         65       65     45           1      False  \n",
            "1         80       80     60           1      False  \n",
            "2        100      100     80           1      False  \n",
            "3        122      120     80           1      False  \n",
            "4         60       50     65           1      False  \n",
            "..       ...      ...    ...         ...        ...  \n",
            "795      100      150     50           6       True  \n",
            "796      160      110    110           6       True  \n",
            "797      150      130     70           6       True  \n",
            "798      170      130     80           6       True  \n",
            "799      130       90     70           6       True  \n",
            "\n",
            "[800 rows x 12 columns]\n"
          ]
        }
      ],
      "source": [
        "import pandas as pd #importing the pandas library \n",
        "df = pd.read_csv(\"/content/sample_data/data_set.csv\") #Writing the entire path for the file - data_set.csv\n",
        "print(df) #printing the data as a table"
      ]
    },
    {
      "cell_type": "code",
      "source": [
        "print(df.head())  #will only print the 5 top rows of the file data_set.csv\n",
        "print(df.head(3)) #will now only print the 3 top rows of the file data_set.csv"
      ],
      "metadata": {
        "colab": {
          "base_uri": "https://localhost:8080/"
        },
        "id": "pZm6rGSoMlif",
        "outputId": "1c3363ca-d8db-404a-fb9a-1815870e51c7"
      },
      "execution_count": 15,
      "outputs": [
        {
          "output_type": "stream",
          "name": "stdout",
          "text": [
            "   #                   Name Type 1  Type 2  HP  Attack  Defense  Sp. Atk  \\\n",
            "0  1              Bulbasaur  Grass  Poison  45      49       49       65   \n",
            "1  2                Ivysaur  Grass  Poison  60      62       63       80   \n",
            "2  3               Venusaur  Grass  Poison  80      82       83      100   \n",
            "3  3  VenusaurMega Venusaur  Grass  Poison  80     100      123      122   \n",
            "4  4             Charmander   Fire     NaN  39      52       43       60   \n",
            "\n",
            "   Sp. Def  Speed  Generation  Legendary  \n",
            "0       65     45           1      False  \n",
            "1       80     60           1      False  \n",
            "2      100     80           1      False  \n",
            "3      120     80           1      False  \n",
            "4       50     65           1      False  \n"
          ]
        }
      ]
    },
    {
      "cell_type": "code",
      "source": [
        "print(df.tail())  #will only print the 5 last rows of the file data_set.csv\n",
        "print(df.tail(6)) #will now only print the 6 last rows of the file data_set.csv"
      ],
      "metadata": {
        "colab": {
          "base_uri": "https://localhost:8080/"
        },
        "id": "Qoqz5h18MbD9",
        "outputId": "6ac26d5d-4719-4f78-d286-7feb5b9c0131"
      },
      "execution_count": 16,
      "outputs": [
        {
          "output_type": "stream",
          "name": "stdout",
          "text": [
            "       #                 Name   Type 1 Type 2  HP  Attack  Defense  Sp. Atk  \\\n",
            "795  719              Diancie     Rock  Fairy  50     100      150      100   \n",
            "796  719  DiancieMega Diancie     Rock  Fairy  50     160      110      160   \n",
            "797  720  HoopaHoopa Confined  Psychic  Ghost  80     110       60      150   \n",
            "798  720   HoopaHoopa Unbound  Psychic   Dark  80     160       60      170   \n",
            "799  721            Volcanion     Fire  Water  80     110      120      130   \n",
            "\n",
            "     Sp. Def  Speed  Generation  Legendary  \n",
            "795      150     50           6       True  \n",
            "796      110    110           6       True  \n",
            "797      130     70           6       True  \n",
            "798      130     80           6       True  \n",
            "799       90     70           6       True  \n",
            "       #                 Name   Type 1  Type 2   HP  Attack  Defense  Sp. Atk  \\\n",
            "794  718     Zygarde50% Forme   Dragon  Ground  108     100      121       81   \n",
            "795  719              Diancie     Rock   Fairy   50     100      150      100   \n",
            "796  719  DiancieMega Diancie     Rock   Fairy   50     160      110      160   \n",
            "797  720  HoopaHoopa Confined  Psychic   Ghost   80     110       60      150   \n",
            "798  720   HoopaHoopa Unbound  Psychic    Dark   80     160       60      170   \n",
            "799  721            Volcanion     Fire   Water   80     110      120      130   \n",
            "\n",
            "     Sp. Def  Speed  Generation  Legendary  \n",
            "794       95     95           6       True  \n",
            "795      150     50           6       True  \n",
            "796      110    110           6       True  \n",
            "797      130     70           6       True  \n",
            "798      130     80           6       True  \n",
            "799       90     70           6       True  \n"
          ]
        }
      ]
    },
    {
      "cell_type": "code",
      "source": [
        "#loading the data in txt format\n",
        "df = pd.read_csv(\"/content/sample_data/data_set.txt\" , delimiter = '\\t')\n",
        "print(df)"
      ],
      "metadata": {
        "colab": {
          "base_uri": "https://localhost:8080/"
        },
        "id": "fMEF5aOcNFMu",
        "outputId": "f68dc2a3-0aa6-4d0b-c457-ba1e6291bfe3"
      },
      "execution_count": 17,
      "outputs": [
        {
          "output_type": "stream",
          "name": "stdout",
          "text": [
            "       #                   Name   Type 1  Type 2  HP  Attack  Defense  \\\n",
            "0      1              Bulbasaur    Grass  Poison  45      49       49   \n",
            "1      2                Ivysaur    Grass  Poison  60      62       63   \n",
            "2      3               Venusaur    Grass  Poison  80      82       83   \n",
            "3      3  VenusaurMega Venusaur    Grass  Poison  80     100      123   \n",
            "4      4             Charmander     Fire     NaN  39      52       43   \n",
            "..   ...                    ...      ...     ...  ..     ...      ...   \n",
            "795  719                Diancie     Rock   Fairy  50     100      150   \n",
            "796  719    DiancieMega Diancie     Rock   Fairy  50     160      110   \n",
            "797  720    HoopaHoopa Confined  Psychic   Ghost  80     110       60   \n",
            "798  720     HoopaHoopa Unbound  Psychic    Dark  80     160       60   \n",
            "799  721              Volcanion     Fire   Water  80     110      120   \n",
            "\n",
            "     Sp. Atk  Sp. Def  Speed  Generation  Legendary  \n",
            "0         65       65     45           1      False  \n",
            "1         80       80     60           1      False  \n",
            "2        100      100     80           1      False  \n",
            "3        122      120     80           1      False  \n",
            "4         60       50     65           1      False  \n",
            "..       ...      ...    ...         ...        ...  \n",
            "795      100      150     50           6       True  \n",
            "796      160      110    110           6       True  \n",
            "797      150      130     70           6       True  \n",
            "798      170      130     80           6       True  \n",
            "799      130       90     70           6       True  \n",
            "\n",
            "[800 rows x 12 columns]\n"
          ]
        }
      ]
    },
    {
      "cell_type": "code",
      "source": [
        "#loading the data in excel format\n",
        "df_xlsx = pd.read_excel(\"/content/sample_data/data_set.xlsx\")\n",
        "print(df_xlsx.head())"
      ],
      "metadata": {
        "colab": {
          "base_uri": "https://localhost:8080/"
        },
        "id": "BD8SRXCyOTIV",
        "outputId": "cfcecd74-2230-4253-f2b6-db8e998e64f0"
      },
      "execution_count": 19,
      "outputs": [
        {
          "output_type": "stream",
          "name": "stdout",
          "text": [
            "   #                   Name Type 1  Type 2  HP  Attack  Defense  Sp. Atk  \\\n",
            "0  1              Bulbasaur  Grass  Poison  45      49       49       65   \n",
            "1  2                Ivysaur  Grass  Poison  60      62       63       80   \n",
            "2  3               Venusaur  Grass  Poison  80      82       83      100   \n",
            "3  3  VenusaurMega Venusaur  Grass  Poison  80     100      123      122   \n",
            "4  4             Charmander   Fire     NaN  39      52       43       60   \n",
            "\n",
            "   Sp. Def  Speed  Generation  Legendary  \n",
            "0       65     45           1      False  \n",
            "1       80     60           1      False  \n",
            "2      100     80           1      False  \n",
            "3      120     80           1      False  \n",
            "4       50     65           1      False  \n"
          ]
        }
      ]
    }
  ]
}