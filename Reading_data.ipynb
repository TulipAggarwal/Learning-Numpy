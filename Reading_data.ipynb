{
  "nbformat": 4,
  "nbformat_minor": 0,
  "metadata": {
    "colab": {
      "provenance": [],
      "authorship_tag": "ABX9TyMj+4//KYEBXMqWthWixk3Q",
      "include_colab_link": true
    },
    "kernelspec": {
      "name": "python3",
      "display_name": "Python 3"
    },
    "language_info": {
      "name": "python"
    }
  },
  "cells": [
    {
      "cell_type": "markdown",
      "metadata": {
        "id": "view-in-github",
        "colab_type": "text"
      },
      "source": [
        "<a href=\"https://colab.research.google.com/github/TulipAggarwal/Learning-Pandas/blob/main/Reading_data.ipynb\" target=\"_parent\"><img src=\"https://colab.research.google.com/assets/colab-badge.svg\" alt=\"Open In Colab\"/></a>"
      ]
    },
    {
      "cell_type": "markdown",
      "source": [
        "Reading data in Pandas 📚"
      ],
      "metadata": {
        "id": "BsCYiKPqQL2R"
      }
    },
    {
      "cell_type": "code",
      "execution_count": 3,
      "metadata": {
        "colab": {
          "base_uri": "https://localhost:8080/"
        },
        "id": "Sdzj3TjAPdAK",
        "outputId": "e406f957-ba08-4ce0-e760-7b075a88352f"
      },
      "outputs": [
        {
          "output_type": "stream",
          "name": "stdout",
          "text": [
            "Index(['#', 'Name', 'Type 1', 'Type 2', 'HP', 'Attack', 'Defense', 'Sp. Atk',\n",
            "       'Sp. Def', 'Speed', 'Generation', 'Legendary'],\n",
            "      dtype='object')\n"
          ]
        }
      ],
      "source": [
        "#Reading the headers of the files\n",
        "import pandas as pd\n",
        "df = pd.read_csv(\"/content/sample_data/data_set.csv\")\n",
        "print(df.columns) #prints the headings of the table"
      ]
    },
    {
      "cell_type": "code",
      "source": [
        "#Reading a specific Column\n",
        "print(df['Generation'])"
      ],
      "metadata": {
        "colab": {
          "base_uri": "https://localhost:8080/"
        },
        "id": "OY5CL2n_RGOk",
        "outputId": "f76da054-7de1-4a6d-e1c4-2e281e2e147e"
      },
      "execution_count": 5,
      "outputs": [
        {
          "output_type": "stream",
          "name": "stdout",
          "text": [
            "0      1\n",
            "1      1\n",
            "2      1\n",
            "3      1\n",
            "4      1\n",
            "      ..\n",
            "795    6\n",
            "796    6\n",
            "797    6\n",
            "798    6\n",
            "799    6\n",
            "Name: Generation, Length: 800, dtype: int64\n"
          ]
        }
      ]
    },
    {
      "cell_type": "code",
      "source": [
        "#Reading a specific Row\n",
        "print(df.iloc[1]) #will print everything in row 1\n",
        "print(df.iloc[1:10]) #will print everything from row 1 to 9"
      ],
      "metadata": {
        "colab": {
          "base_uri": "https://localhost:8080/"
        },
        "id": "J1-AfG-ERhZh",
        "outputId": "e4463c44-3296-4f32-a9e1-9871163674b0"
      },
      "execution_count": 6,
      "outputs": [
        {
          "output_type": "stream",
          "name": "stdout",
          "text": [
            "#                   2\n",
            "Name          Ivysaur\n",
            "Type 1          Grass\n",
            "Type 2         Poison\n",
            "HP                 60\n",
            "Attack             62\n",
            "Defense            63\n",
            "Sp. Atk            80\n",
            "Sp. Def            80\n",
            "Speed              60\n",
            "Generation          1\n",
            "Legendary       False\n",
            "Name: 1, dtype: object\n",
            "   #                       Name Type 1  Type 2  HP  Attack  Defense  Sp. Atk  \\\n",
            "1  2                    Ivysaur  Grass  Poison  60      62       63       80   \n",
            "2  3                   Venusaur  Grass  Poison  80      82       83      100   \n",
            "3  3      VenusaurMega Venusaur  Grass  Poison  80     100      123      122   \n",
            "4  4                 Charmander   Fire     NaN  39      52       43       60   \n",
            "5  5                 Charmeleon   Fire     NaN  58      64       58       80   \n",
            "6  6                  Charizard   Fire  Flying  78      84       78      109   \n",
            "7  6  CharizardMega Charizard X   Fire  Dragon  78     130      111      130   \n",
            "8  6  CharizardMega Charizard Y   Fire  Flying  78     104       78      159   \n",
            "9  7                   Squirtle  Water     NaN  44      48       65       50   \n",
            "\n",
            "   Sp. Def  Speed  Generation  Legendary  \n",
            "1       80     60           1      False  \n",
            "2      100     80           1      False  \n",
            "3      120     80           1      False  \n",
            "4       50     65           1      False  \n",
            "5       65     80           1      False  \n",
            "6       85    100           1      False  \n",
            "7       85    100           1      False  \n",
            "8      115    100           1      False  \n",
            "9       64     43           1      False  \n"
          ]
        }
      ]
    },
    {
      "cell_type": "code",
      "source": [
        "#Reading a specific location (Row,Column)\n",
        "print(df.iloc[2,4])"
      ],
      "metadata": {
        "colab": {
          "base_uri": "https://localhost:8080/"
        },
        "id": "tF5D6MK-SOJj",
        "outputId": "4e33088c-04bd-40d2-b256-d4df168ebf3a"
      },
      "execution_count": 7,
      "outputs": [
        {
          "output_type": "stream",
          "name": "stdout",
          "text": [
            "80\n"
          ]
        }
      ]
    }
  ]
}