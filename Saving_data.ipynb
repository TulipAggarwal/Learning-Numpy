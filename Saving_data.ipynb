{
  "nbformat": 4,
  "nbformat_minor": 0,
  "metadata": {
    "colab": {
      "provenance": [],
      "authorship_tag": "ABX9TyOlGg+xviBfDGmPU5fZrixR",
      "include_colab_link": true
    },
    "kernelspec": {
      "name": "python3",
      "display_name": "Python 3"
    },
    "language_info": {
      "name": "python"
    }
  },
  "cells": [
    {
      "cell_type": "markdown",
      "metadata": {
        "id": "view-in-github",
        "colab_type": "text"
      },
      "source": [
        "<a href=\"https://colab.research.google.com/github/TulipAggarwal/Learning-Pandas/blob/main/Saving_data.ipynb\" target=\"_parent\"><img src=\"https://colab.research.google.com/assets/colab-badge.svg\" alt=\"Open In Colab\"/></a>"
      ]
    },
    {
      "cell_type": "markdown",
      "source": [
        "Saving the Data (CSV, Excel, TXT, etc.) ✉"
      ],
      "metadata": {
        "id": "pcOuL2xeN0yZ"
      }
    },
    {
      "cell_type": "code",
      "execution_count": 7,
      "metadata": {
        "id": "ekKZHT5qNv25"
      },
      "outputs": [],
      "source": [
        "import pandas as pd #importing the pandas library \n",
        "df = pd.read_csv(\"/content/sample_data/data_set.csv\")"
      ]
    },
    {
      "cell_type": "code",
      "source": [
        "#saving the current file as a csv format\n",
        "df.to_csv(\"modified.csv\", index = False) #will remove all the indexes from the file 'modfied.csv'"
      ],
      "metadata": {
        "id": "cS7Dn635O6sC"
      },
      "execution_count": 10,
      "outputs": []
    },
    {
      "cell_type": "code",
      "source": [
        "#saving the current file as a csv format\n",
        "df.to_excel(\"modfied.xlsx\" , index = False)"
      ],
      "metadata": {
        "id": "IT9xb84fPu1r"
      },
      "execution_count": 9,
      "outputs": []
    },
    {
      "cell_type": "code",
      "source": [
        "#saving the current file to txt\n",
        "df.to_csv(\"modofied.txt\" , index = False)"
      ],
      "metadata": {
        "id": "LjJNWgIZP_fw"
      },
      "execution_count": 11,
      "outputs": []
    }
  ]
}